{
 "cells": [
  {
   "cell_type": "code",
   "execution_count": 1,
   "metadata": {},
   "outputs": [],
   "source": [
    "import spotipy\n",
    "from spotipy.oauth2 import SpotifyOAuth\n",
    "import json\n",
    "import pandas as pd\n",
    "from sklearn.model_selection import train_test_split\n",
    "from sklearn.ensemble import RandomForestClassifier\n",
    "from sklearn.metrics import accuracy_score, classification_report"
   ]
  },
  {
   "cell_type": "markdown",
   "metadata": {},
   "source": [
    "### Feature Store"
   ]
  },
  {
   "cell_type": "code",
   "execution_count": 2,
   "metadata": {},
   "outputs": [],
   "source": [
    "selected_features = [\n",
    "    'music name', \n",
    "    'music id',\n",
    "    'acousticness',\n",
    "    'danceability',\n",
    "    'energy',\n",
    "    'instrumentalness',\n",
    "    'liveness',\n",
    "    'loudness',\n",
    "    'speechiness',\n",
    "    'tempo',\n",
    "    'valence',\n",
    "    'duration_ms',\n",
    "    'key',\n",
    "    'mode',\n",
    "    'time_signature'\n",
    "]"
   ]
  },
  {
   "cell_type": "markdown",
   "metadata": {},
   "source": [
    "### Authentication to Spotify API"
   ]
  },
  {
   "cell_type": "code",
   "execution_count": 3,
   "metadata": {},
   "outputs": [],
   "source": [
    "with open('credentials.json', 'r') as file:\n",
    "    credentials = json.load(file)\n",
    "# 特徴量を格納するための空のリスト\n",
    "features_list = []\n",
    "\n",
    "sp = spotipy.Spotify(auth_manager=SpotifyOAuth(client_id=credentials['client_id'],\n",
    "                                               client_secret=credentials['client_secret'],\n",
    "                                               redirect_uri=credentials['redirect_uri'],\n",
    "                                               scope='user-read-recently-played'))"
   ]
  },
  {
   "cell_type": "markdown",
   "metadata": {},
   "source": [
    "### Set Playlist ID"
   ]
  },
  {
   "cell_type": "code",
   "execution_count": 4,
   "metadata": {},
   "outputs": [],
   "source": [
    "## ②プレイリスト\n",
    "playlist_id = credentials['ops_playlist_id']"
   ]
  },
  {
   "cell_type": "markdown",
   "metadata": {},
   "source": [
    "### Storing Feature Param"
   ]
  },
  {
   "cell_type": "code",
   "execution_count": 5,
   "metadata": {},
   "outputs": [],
   "source": [
    "offset = 0\n",
    "while True:\n",
    "    tracks = sp.playlist_tracks(playlist_id, offset=offset, fields='items.track.id,items.track.name,total')\n",
    "    if len(tracks['items']) == 0:\n",
    "        break\n",
    "\n",
    "    for track in tracks['items']:\n",
    "        track_id = track['track']['id']\n",
    "        track_name = track['track']['name']\n",
    "\n",
    "        # 各トラックIDに対して特徴量を取得\n",
    "        features = sp.audio_features(track_id)[0]\n",
    "        features_list.append([track_name,track_id,features])\n",
    "        # features_list.append(features) \n",
    "\n",
    "    offset += len(tracks['items'])"
   ]
  },
  {
   "cell_type": "code",
   "execution_count": 6,
   "metadata": {},
   "outputs": [],
   "source": [
    "df = pd.DataFrame(features_list, columns=['music name', 'music id', 'features'])\n",
    "\n",
    "# 特徴量の辞書を展開して新たなカラムを作成\n",
    "features_df = df['features'].apply(pd.Series)\n",
    "\n",
    "# 元のDataFrameと特徴量のDataFrameを結合\n",
    "df = pd.concat([df[['music name', 'music id']], features_df], axis=1)\n",
    "selected_features_df=df[selected_features]"
   ]
  },
  {
   "cell_type": "code",
   "execution_count": 7,
   "metadata": {},
   "outputs": [],
   "source": [
    "# CSV保存\n",
    "selected_features_df.to_csv(\"./test/opsdata.csv\", index=False)"
   ]
  },
  {
   "cell_type": "code",
   "execution_count": 8,
   "metadata": {},
   "outputs": [
    {
     "data": {
      "text/html": [
       "<div>\n",
       "<style scoped>\n",
       "    .dataframe tbody tr th:only-of-type {\n",
       "        vertical-align: middle;\n",
       "    }\n",
       "\n",
       "    .dataframe tbody tr th {\n",
       "        vertical-align: top;\n",
       "    }\n",
       "\n",
       "    .dataframe thead th {\n",
       "        text-align: right;\n",
       "    }\n",
       "</style>\n",
       "<table border=\"1\" class=\"dataframe\">\n",
       "  <thead>\n",
       "    <tr style=\"text-align: right;\">\n",
       "      <th></th>\n",
       "      <th>music name</th>\n",
       "      <th>music id</th>\n",
       "      <th>acousticness</th>\n",
       "      <th>danceability</th>\n",
       "      <th>energy</th>\n",
       "      <th>instrumentalness</th>\n",
       "      <th>liveness</th>\n",
       "      <th>loudness</th>\n",
       "      <th>speechiness</th>\n",
       "      <th>tempo</th>\n",
       "      <th>valence</th>\n",
       "      <th>duration_ms</th>\n",
       "      <th>key</th>\n",
       "      <th>mode</th>\n",
       "      <th>time_signature</th>\n",
       "    </tr>\n",
       "  </thead>\n",
       "  <tbody>\n",
       "    <tr>\n",
       "      <th>177</th>\n",
       "      <td>FLARE</td>\n",
       "      <td>18dWBsEdWdGA1MRPN95H1X</td>\n",
       "      <td>0.188000</td>\n",
       "      <td>0.413</td>\n",
       "      <td>0.915</td>\n",
       "      <td>0.000000</td>\n",
       "      <td>0.5260</td>\n",
       "      <td>-4.741</td>\n",
       "      <td>0.1250</td>\n",
       "      <td>164.008</td>\n",
       "      <td>0.465</td>\n",
       "      <td>274427</td>\n",
       "      <td>7</td>\n",
       "      <td>0</td>\n",
       "      <td>4</td>\n",
       "    </tr>\n",
       "    <tr>\n",
       "      <th>178</th>\n",
       "      <td>Daylight</td>\n",
       "      <td>7gDHjM9dOawzT6ErD08MPO</td>\n",
       "      <td>0.024300</td>\n",
       "      <td>0.487</td>\n",
       "      <td>0.823</td>\n",
       "      <td>0.000000</td>\n",
       "      <td>0.0895</td>\n",
       "      <td>-8.725</td>\n",
       "      <td>0.0470</td>\n",
       "      <td>165.986</td>\n",
       "      <td>0.694</td>\n",
       "      <td>239544</td>\n",
       "      <td>11</td>\n",
       "      <td>1</td>\n",
       "      <td>4</td>\n",
       "    </tr>\n",
       "    <tr>\n",
       "      <th>179</th>\n",
       "      <td>Blow out</td>\n",
       "      <td>7FAmTYG5KKZXkAk6fzlh7Y</td>\n",
       "      <td>0.000223</td>\n",
       "      <td>0.484</td>\n",
       "      <td>0.940</td>\n",
       "      <td>0.000000</td>\n",
       "      <td>0.3080</td>\n",
       "      <td>-2.581</td>\n",
       "      <td>0.0938</td>\n",
       "      <td>96.060</td>\n",
       "      <td>0.434</td>\n",
       "      <td>217880</td>\n",
       "      <td>6</td>\n",
       "      <td>0</td>\n",
       "      <td>4</td>\n",
       "    </tr>\n",
       "    <tr>\n",
       "      <th>180</th>\n",
       "      <td>TIT FOR TAT</td>\n",
       "      <td>19HUwJcc2hh2ss83LopTef</td>\n",
       "      <td>0.000092</td>\n",
       "      <td>0.399</td>\n",
       "      <td>0.949</td>\n",
       "      <td>0.000021</td>\n",
       "      <td>0.5480</td>\n",
       "      <td>-5.622</td>\n",
       "      <td>0.1530</td>\n",
       "      <td>172.673</td>\n",
       "      <td>0.559</td>\n",
       "      <td>242187</td>\n",
       "      <td>10</td>\n",
       "      <td>0</td>\n",
       "      <td>4</td>\n",
       "    </tr>\n",
       "    <tr>\n",
       "      <th>181</th>\n",
       "      <td>LIES GOES ON</td>\n",
       "      <td>2TXgyfocJAByylGfNv0xBy</td>\n",
       "      <td>0.017500</td>\n",
       "      <td>0.469</td>\n",
       "      <td>0.963</td>\n",
       "      <td>0.000000</td>\n",
       "      <td>0.3820</td>\n",
       "      <td>-2.431</td>\n",
       "      <td>0.1300</td>\n",
       "      <td>172.090</td>\n",
       "      <td>0.497</td>\n",
       "      <td>197433</td>\n",
       "      <td>10</td>\n",
       "      <td>0</td>\n",
       "      <td>4</td>\n",
       "    </tr>\n",
       "  </tbody>\n",
       "</table>\n",
       "</div>"
      ],
      "text/plain": [
       "       music name                music id  acousticness  danceability  energy  \\\n",
       "177         FLARE  18dWBsEdWdGA1MRPN95H1X      0.188000         0.413   0.915   \n",
       "178      Daylight  7gDHjM9dOawzT6ErD08MPO      0.024300         0.487   0.823   \n",
       "179      Blow out  7FAmTYG5KKZXkAk6fzlh7Y      0.000223         0.484   0.940   \n",
       "180   TIT FOR TAT  19HUwJcc2hh2ss83LopTef      0.000092         0.399   0.949   \n",
       "181  LIES GOES ON  2TXgyfocJAByylGfNv0xBy      0.017500         0.469   0.963   \n",
       "\n",
       "     instrumentalness  liveness  loudness  speechiness    tempo  valence  \\\n",
       "177          0.000000    0.5260    -4.741       0.1250  164.008    0.465   \n",
       "178          0.000000    0.0895    -8.725       0.0470  165.986    0.694   \n",
       "179          0.000000    0.3080    -2.581       0.0938   96.060    0.434   \n",
       "180          0.000021    0.5480    -5.622       0.1530  172.673    0.559   \n",
       "181          0.000000    0.3820    -2.431       0.1300  172.090    0.497   \n",
       "\n",
       "     duration_ms  key  mode  time_signature  \n",
       "177       274427    7     0               4  \n",
       "178       239544   11     1               4  \n",
       "179       217880    6     0               4  \n",
       "180       242187   10     0               4  \n",
       "181       197433   10     0               4  "
      ]
     },
     "execution_count": 8,
     "metadata": {},
     "output_type": "execute_result"
    }
   ],
   "source": [
    "selected_features_df.tail()\n"
   ]
  }
 ],
 "metadata": {
  "kernelspec": {
   "display_name": "Python 3",
   "language": "python",
   "name": "python3"
  },
  "language_info": {
   "codemirror_mode": {
    "name": "ipython",
    "version": 3
   },
   "file_extension": ".py",
   "mimetype": "text/x-python",
   "name": "python",
   "nbconvert_exporter": "python",
   "pygments_lexer": "ipython3",
   "version": "3.10.6"
  },
  "orig_nbformat": 4
 },
 "nbformat": 4,
 "nbformat_minor": 2
}
